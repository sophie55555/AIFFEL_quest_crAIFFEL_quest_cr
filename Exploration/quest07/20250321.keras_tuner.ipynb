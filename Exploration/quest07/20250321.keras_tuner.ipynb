{
 "cells": [
  {
   "cell_type": "markdown",
   "id": "34ade80f",
   "metadata": {},
   "source": [
    "13-6. 모델을 더 완벽하게 만드는 방법 : KerasTuner"
   ]
  },
  {
   "cell_type": "markdown",
   "id": "6c411e93",
   "metadata": {},
   "source": [
    "우리가 볼 첫번째 MLOps는 하이퍼파라미터 튜닝입니다. 그중에서 우리가 사용할 툴은 KerasTuner입니다.\n",
    "\n",
    "KerasTuner는 Keras뿐만 아니라 scikit-learn과 같은 모델에서도 커스터마이징해서 사용할 수 있는 툴이며 하이퍼파라미터 튜닝을 자동으로 할 수 있게 도와줍니다.\n",
    "\n",
    "기존 모델에서 하이퍼파라미터 튜닝을 진행한다고 했을 때 딥러닝의 경우 일일이 바꿔가면서 함수를 만들고 정리했습니다. 그러나 KerasTuenr를 사용하고 범위를 결정하는 함수를 잘 선택한다면 하이퍼파라미터 튜닝을 원하는대로 할 수 있습니다.\n",
    "\n",
    "그렇다면 KerasTuner를 사용하러 떠나볼까요?\n",
    "\n",
    "이번 실습은 MNIST로 간단하게 할 수 있는 하이퍼파라미터 튜닝작업입니다!\n",
    "\n",
    "우선 디렉토리 먼저 만들어놓도록 하겠습니다.\n",
    "\n",
    "이번 실습에 앞서 우선 KerasTuner를 설치하겠습니다."
   ]
  },
  {
   "cell_type": "code",
   "execution_count": 1,
   "id": "0adf9855",
   "metadata": {},
   "outputs": [
    {
     "name": "stdout",
     "output_type": "stream",
     "text": [
      "Collecting keras-tuner\n",
      "  Downloading keras_tuner-1.4.7-py3-none-any.whl (129 kB)\n",
      "     |████████████████████████████████| 129 kB 6.8 MB/s            \n",
      "\u001b[?25hRequirement already satisfied: requests in /opt/conda/lib/python3.9/site-packages (from keras-tuner) (2.26.0)\n",
      "Requirement already satisfied: keras in /opt/conda/lib/python3.9/site-packages (from keras-tuner) (2.6.0)\n",
      "Collecting kt-legacy\n",
      "  Downloading kt_legacy-1.0.5-py3-none-any.whl (9.6 kB)\n",
      "Requirement already satisfied: packaging in /opt/conda/lib/python3.9/site-packages (from keras-tuner) (21.3)\n",
      "Requirement already satisfied: pyparsing!=3.0.5,>=2.0.2 in /opt/conda/lib/python3.9/site-packages (from packaging->keras-tuner) (3.0.6)\n",
      "Requirement already satisfied: urllib3<1.27,>=1.21.1 in /opt/conda/lib/python3.9/site-packages (from requests->keras-tuner) (1.26.7)\n",
      "Requirement already satisfied: charset-normalizer~=2.0.0 in /opt/conda/lib/python3.9/site-packages (from requests->keras-tuner) (2.0.8)\n",
      "Requirement already satisfied: certifi>=2017.4.17 in /opt/conda/lib/python3.9/site-packages (from requests->keras-tuner) (2021.10.8)\n",
      "Requirement already satisfied: idna<4,>=2.5 in /opt/conda/lib/python3.9/site-packages (from requests->keras-tuner) (2.10)\n",
      "Installing collected packages: kt-legacy, keras-tuner\n",
      "Successfully installed keras-tuner-1.4.7 kt-legacy-1.0.5\n",
      "\u001b[33mWARNING: Running pip as the 'root' user can result in broken permissions and conflicting behaviour with the system package manager. It is recommended to use a virtual environment instead: https://pip.pypa.io/warnings/venv\u001b[0m\n"
     ]
    }
   ],
   "source": [
    "!mkdir ~/aiffel/mlops\n",
    "!pip install keras-tuner"
   ]
  },
  {
   "cell_type": "code",
   "execution_count": 3,
   "id": "c022d09a",
   "metadata": {},
   "outputs": [],
   "source": [
    "import tensorflow as tf\n",
    "import keras\n",
    "import keras_tuner as kt\n",
    "from sklearn.model_selection import train_test_split\n",
    "import os"
   ]
  },
  {
   "cell_type": "code",
   "execution_count": 4,
   "id": "30c7a0ca",
   "metadata": {},
   "outputs": [],
   "source": [
    "(x_train, y_train), (x_test, y_test) = keras.datasets.mnist.load_data()"
   ]
  },
  {
   "cell_type": "markdown",
   "id": "e9539b35",
   "metadata": {},
   "source": [
    "CNN을 사용할 예정이라 차원 수를 하나 더 추가해줍니다.\n",
    "또한 label을 categorical을 활용해 변환합니다."
   ]
  },
  {
   "cell_type": "code",
   "execution_count": 5,
   "id": "edc5ea4d",
   "metadata": {},
   "outputs": [],
   "source": [
    "X_train = x_train.reshape(-1,28, 28, 1) \n",
    "X_test = x_test.reshape(-1,28,28,1)\n",
    "y_train = tf.keras.utils.to_categorical(y_train)\n",
    "y_test = tf.keras.utils.to_categorical(y_test)"
   ]
  },
  {
   "cell_type": "markdown",
   "id": "0251328f",
   "metadata": {},
   "source": [
    "scikit-learn에 내장되어 있는 train_test_split으로 train data와 validation data를 나누어줍니다."
   ]
  },
  {
   "cell_type": "code",
   "execution_count": 6,
   "id": "8d6dda14",
   "metadata": {},
   "outputs": [
    {
     "name": "stdout",
     "output_type": "stream",
     "text": [
      "(48000, 28, 28, 1)\n"
     ]
    }
   ],
   "source": [
    "X_train, X_val, y_train, y_val = train_test_split(X_train, y_train, test_size = 0.2)\n",
    "print(X_train.shape)"
   ]
  },
  {
   "cell_type": "markdown",
   "id": "a83ea0ee",
   "metadata": {},
   "source": [
    "이번에는 제가 짠 DeepTuner를 살펴보겠습니다!\n",
    "\n",
    "DeepTuner의 경우 kerastuner.Tuner를 인자로 하는 class이며 class에서 수행하는 함수는 run_trial, save_model load_model입니다.\n",
    "\n",
    "run_trial 함수에서 제일 중요한 부분은 hypermodel과 trial입니다.\n",
    "\n",
    "KerasTuner에서의 hypermodel은 모델을 공유 및 재사용하기 위해 검색 공간을 캡슐화하는 모델입니다. hypermodel의 경우 hp라는 인수를 활용해서 keras.Model을 생성합니다.\n",
    "즉 hypermodel은 우리가 만들고 싶은 모델을 쌓는 과정을 거치는데 이때 하이퍼파라미터 튜닝에 대한 검색공간을 만들어줄때 hp라는 인수를 사용해서 만든 모델입니다.\n",
    "hypermodel의 경우 build 메소드를 활용하면 모델이 빌드가 되면서 하이퍼파라미터 튜닝이 시작합니다.\n",
    "\n",
    "trial의 경우에는 Oracle에 속하는 class입니다.\n",
    "Oracle이란 KerasTuner의 모든 검색 알고리즘에서 사용하는 기본 클래스이며 크게 RandomSearchOracle, BayesianOptimizationOracle, HyperbandOracle이 있습니다.\n",
    "쉽게 설명하면 Oracle은 KerasTuner가 하이퍼파라미터를 정할 때 사용하는 알고리즘이라고 생각하시면 됩니다!\n",
    "여기서 trial.hyperparameter는 Oracle이 찾아야 하는 하이퍼파라미터입니다. 즉 hypermodel에서의 hp입니다.\n",
    "제가 model.fit()을 할때 batch_size도 고를 수 있게 만들었습니다."
   ]
  },
  {
   "cell_type": "code",
   "execution_count": 7,
   "id": "4ae467cb",
   "metadata": {},
   "outputs": [],
   "source": [
    "class DeepTuner(kt.Tuner):\n",
    "    def run_trial(self, trial, X, y, validation_data, **fit_kwargs):\n",
    "        model = self.hypermodel.build(trial.hyperparameters)\n",
    "        model.fit(X, y, batch_size=trial.hyperparameters.Choice(\n",
    "            'batch_size', [16, 32]), **fit_kwargs)\n",
    "\n",
    "\n",
    "        X_val, y_val = validation_data\n",
    "        eval_scores = model.evaluate(X_val, y_val)\n",
    "        return {name: value for name, value in zip(\n",
    "            model.metrics_names,\n",
    "            eval_scores)}"
   ]
  },
  {
   "cell_type": "markdown",
   "id": "d01053c1",
   "metadata": {},
   "source": [
    "이번에는 build_model쪽을 보도록 하겠습니다.\n",
    "\n",
    "build_model은 위에서 설명한것처럼 hypermodel을 만들어줘야 합니다. 제가 만든 hypermodel은 총 2가지 기법이 들어가 있으며 주의사항도 1가지 있습니다.\n",
    "\n",
    "우선 주의사항부터 말씀드리면 해당 모델의 경우 hypermodel이기 때문에 Input지정이 필수입니다!\n",
    "그렇기에 여러분들이 넣고 싶은 모델에 대한 shape을 꼭 기재해주셔야 합니다!\n",
    "\n",
    "제가 사용한 첫번째 기법은 바로 layer의 숫자도 KerasTuner에게 맡겼습니다.\n",
    "for문을 확인해보겠습니다\n",
    "\n",
    "첫번째 for문의 경우 hp.Int로 만들어 검색공간은 정수로 만들고 가장 작은값을 1로 가장 큰값을 10으로 두었습니다.\n",
    "이렇게 설정하면 최소 1개에서 최소 10개의 layer를 쌓을 수 있게 설정할 수 있습니다.\n",
    "\n",
    "제가 쌓고싶은 layer는 conv2D인데 kernel_size는 (3,3)이며 차원수는 최소 32에서 최대 256으로 바꾸었습니다.\n",
    "\n",
    "두번째 for문을 살펴보겠습니다. 두번째 for문도 최소 1개에서 3개로 설정했지만 Dense Layer의 경우 나올 수 있는 차원을 32,64,128,256중 1개를 선택하도록 만들었습니다.\n",
    "\n",
    "이러한 방식으로 hypermodel을 만들면 하고싶은 하이퍼 파라미터 튜닝을 진행할 수 있습니다."
   ]
  },
  {
   "cell_type": "code",
   "execution_count": 8,
   "id": "768a96f5",
   "metadata": {},
   "outputs": [],
   "source": [
    "def build_model(hp):\n",
    "    model = tf.keras.Sequential()\n",
    "    model.add(tf.keras.Input(shape = X_train.shape[1:], name = 'inputs'))\n",
    "    for i in range(hp.Int('num_layers', min_value=1, max_value=10)):\n",
    "              model.add(tf.keras.layers.Conv2D(hp.Int(\n",
    "                  'units_{i}'.format(i=i), min_value=32, max_value=128, step=5), (3,3),activation='relu'))\n",
    "    model.add(tf.keras.layers.Flatten())\n",
    "    for i in range(hp.Int('n_connections', 1, 3)):\n",
    "        model.add(tf.keras.layers.Dense(hp.Choice(f'n_nodes',\n",
    "                                  values=[32,64,128, 256]), activation = 'relu'))\n",
    "    model.add(tf.keras.layers.Dense(10, activation='softmax', name = 'outputs'))\n",
    "    model.compile(optimizer = 'adam',loss='categorical_crossentropy',\n",
    "        metrics=['accuracy'])\n",
    "    return model"
   ]
  },
  {
   "cell_type": "markdown",
   "id": "b7aad8f2",
   "metadata": {},
   "source": [
    "마지막으로 keras_tuner를 정의하고 탐색하는것까지 보도록 하겠습니다.\n",
    "\n",
    "저는 이번 모델의 경우 BayesianOptimizationOracle을 사용할 예정이며 목표는 accuracy와 max로 둘 예정입니다. 실제 trial은 10번으로 지정할 것입니다.\n",
    "\n",
    "hypermodel은 build_model을 넣어주시고 project이름도 작성해주세요.\n",
    "\n",
    "마지막으로 search함수에 X_train, Y_train, validation data, epoch을 넣고 탐색합니다!"
   ]
  },
  {
   "cell_type": "code",
   "execution_count": 9,
   "id": "48648c27",
   "metadata": {},
   "outputs": [
    {
     "name": "stdout",
     "output_type": "stream",
     "text": [
      "Trial 10 Complete [00h 01m 20s]\n",
      "accuracy: 0.9665833115577698\n",
      "\n",
      "Best accuracy So Far: 0.9868333339691162\n",
      "Total elapsed time: 00h 12m 28s\n"
     ]
    }
   ],
   "source": [
    "my_keras_tuner = DeepTuner(\n",
    "    oracle=kt.oracles.BayesianOptimizationOracle(\n",
    "        objective=kt.Objective('accuracy', 'max'),\n",
    "        max_trials=10,\n",
    "        seed=42),\n",
    "    hypermodel=build_model,\n",
    "    overwrite=True,\n",
    "    project_name='my_keras_tuner')\n",
    "\n",
    "# 해당 모델 학습시간은 약 10분정도 걸립니다!\n",
    "my_keras_tuner.search(\n",
    "    X_train, y_train, validation_data=(X_val, y_val), epochs=3)"
   ]
  },
  {
   "cell_type": "markdown",
   "id": "1f6e25d4",
   "metadata": {},
   "source": [
    "가장 좋은 모델을 뽑는 방법은 KerasTuner.get_best_hyperparamters를 이용해서 가장 좋은 하이퍼파라미터를 뽑아내는 작업입니다\n",
    "하이퍼파라미터를 뽑았으면 build_model()에 집어넣어 가장 좋은 모델을 선언합니다.\n",
    "\n",
    "그렇다면 여러분들이 만든 가장 좋은 모델을 확인해볼까요?"
   ]
  },
  {
   "cell_type": "code",
   "execution_count": 10,
   "id": "a1958c47",
   "metadata": {},
   "outputs": [
    {
     "name": "stdout",
     "output_type": "stream",
     "text": [
      "Model: \"sequential_11\"\n",
      "_________________________________________________________________\n",
      "Layer (type)                 Output Shape              Param #   \n",
      "=================================================================\n",
      "conv2d_65 (Conv2D)           (None, 26, 26, 77)        770       \n",
      "_________________________________________________________________\n",
      "conv2d_66 (Conv2D)           (None, 24, 24, 117)       81198     \n",
      "_________________________________________________________________\n",
      "conv2d_67 (Conv2D)           (None, 22, 22, 112)       118048    \n",
      "_________________________________________________________________\n",
      "conv2d_68 (Conv2D)           (None, 20, 20, 52)        52468     \n",
      "_________________________________________________________________\n",
      "conv2d_69 (Conv2D)           (None, 18, 18, 102)       47838     \n",
      "_________________________________________________________________\n",
      "conv2d_70 (Conv2D)           (None, 16, 16, 122)       112118    \n",
      "_________________________________________________________________\n",
      "conv2d_71 (Conv2D)           (None, 14, 14, 82)        90118     \n",
      "_________________________________________________________________\n",
      "conv2d_72 (Conv2D)           (None, 12, 12, 82)        60598     \n",
      "_________________________________________________________________\n",
      "conv2d_73 (Conv2D)           (None, 10, 10, 37)        27343     \n",
      "_________________________________________________________________\n",
      "flatten_11 (Flatten)         (None, 3700)              0         \n",
      "_________________________________________________________________\n",
      "dense_16 (Dense)             (None, 32)                118432    \n",
      "_________________________________________________________________\n",
      "outputs (Dense)              (None, 10)                330       \n",
      "=================================================================\n",
      "Total params: 709,261\n",
      "Trainable params: 709,261\n",
      "Non-trainable params: 0\n",
      "_________________________________________________________________\n"
     ]
    }
   ],
   "source": [
    "best_hps = my_keras_tuner.get_best_hyperparameters(num_trials=10)[0]\n",
    "model = build_model(best_hps)\n",
    "model.summary()"
   ]
  },
  {
   "cell_type": "markdown",
   "id": "df1a68d6",
   "metadata": {},
   "source": [
    "최고의 하이퍼 파라미터만 뽑았기 때문에 아직 모델학습이 되지 않았습니다!\n",
    "이번에 epoch을 5번정도 주어서 모델학습을 진행합니다!\n",
    "\n",
    "만일 여러분들이 무거운 모델을 돌릴 경우 하이퍼파라미터 튜닝작업이 매우 느려질 수 있습니다.\n",
    "그때의 경우 하이퍼파라미터 튜닝할때 epoch을 3-4정도로 작게 준 다음 최고의 하이퍼파라미터를 뽑아낸 다음\n",
    "본격적인 모델학습때 epoch을 넉넉하게 주는 것도 방법입니다!"
   ]
  },
  {
   "cell_type": "code",
   "execution_count": 11,
   "id": "6e813a6f",
   "metadata": {},
   "outputs": [
    {
     "name": "stdout",
     "output_type": "stream",
     "text": [
      "Epoch 1/5\n",
      "1500/1500 [==============================] - 32s 20ms/step - loss: 0.2631 - accuracy: 0.9217\n",
      "Epoch 2/5\n",
      "1500/1500 [==============================] - 30s 20ms/step - loss: 0.0894 - accuracy: 0.9741\n",
      "Epoch 3/5\n",
      "1500/1500 [==============================] - 30s 20ms/step - loss: 0.0708 - accuracy: 0.9792\n",
      "Epoch 4/5\n",
      "1500/1500 [==============================] - 30s 20ms/step - loss: 0.0605 - accuracy: 0.9817\n",
      "Epoch 5/5\n",
      "1500/1500 [==============================] - 26s 17ms/step - loss: 0.0499 - accuracy: 0.9847\n"
     ]
    },
    {
     "data": {
      "text/plain": [
       "<keras.callbacks.History at 0x7dc8b0f05640>"
      ]
     },
     "execution_count": 11,
     "metadata": {},
     "output_type": "execute_result"
    }
   ],
   "source": [
    "model.fit(X_train, y_train, batch_size=32, epochs = 5)"
   ]
  },
  {
   "cell_type": "markdown",
   "id": "5c294b20",
   "metadata": {},
   "source": [
    "모델 평가를 진행해볼까요?"
   ]
  },
  {
   "cell_type": "code",
   "execution_count": 12,
   "id": "7802e443",
   "metadata": {},
   "outputs": [
    {
     "name": "stdout",
     "output_type": "stream",
     "text": [
      "313/313 [==============================] - 2s 4ms/step - loss: 0.0436 - accuracy: 0.9862\n"
     ]
    },
    {
     "data": {
      "text/plain": [
       "[0.04359979182481766, 0.9861999750137329]"
      ]
     },
     "execution_count": 12,
     "metadata": {},
     "output_type": "execute_result"
    }
   ],
   "source": [
    "model.evaluate(X_test, y_test)"
   ]
  },
  {
   "cell_type": "code",
   "execution_count": null,
   "id": "0484984d",
   "metadata": {},
   "outputs": [],
   "source": [
    "이제 모델을 저장할 차례입니다.\n",
    "\n",
    "우리가 이전까지 자주 사용한 저장방법은 HDF5파일 (.h5)로 저장하는 방법이었습니다.\n",
    "\n",
    "HDF파일로 저장하는 방식은 이전 Keras에서 모델을 저장하는 방식이었으나 사실 이 방법은 TensorFlow나 Keras에서 그다지 선호하지 않는 저장방식입니다.\n",
    "\n",
    "TensorFlow의 경우 공식적으로 지원하는 모델 저장방식은 SavedModel입니다."
   ]
  },
  {
   "cell_type": "markdown",
   "id": "7b2b84cf",
   "metadata": {},
   "source": [
    "SavedModel은 .h5파일처럼 모델의 가중치와 모델을 전부 하나의 파일로 관리하는 방식이 아닌 모델, 가중치를 따로 구분해서 저장하는 방식입니다.\n",
    "\n",
    "SavedModel은 크게 3가지로 구성되어 있습니다.\n",
    "\n",
    "saved_model.pb : pb는 프로토콜 버퍼를 의미하며 해당 파일은 내보낸 모델 그래프 구조를 포함하고 있습니다.\n",
    "variables : 내보낸 변수값이 있는 이진 파일과 내보낸 모델 그래프에 해당하는 체크포인트를 포함하고 있습니다\n",
    "assets : 내보낸 모델을 불러올 때 추가적인 파일이 필요한 경우 이 폴더에 파일이 생성됩니다.\n",
    "이 방식으로 진행한다면 모델을 배포할 때 유리합니다.\n",
    "\n",
    "Keras의 경우 .keras파일을 선호합니다. .keras파일은 .h5파일과 마찬가지로 가중치와 모델을 전부 하나의 파일로 관리합니다."
   ]
  },
  {
   "cell_type": "code",
   "execution_count": 13,
   "id": "262422ad",
   "metadata": {},
   "outputs": [
    {
     "name": "stdout",
     "output_type": "stream",
     "text": [
      "INFO:tensorflow:Assets written to: /aiffel/aiffel/mlops/best_model/1/model/assets\n"
     ]
    }
   ],
   "source": [
    "save_path = os.getenv('HOME') + '/aiffel/mlops/best_model/1'\n",
    "fname = os.path.join(save_path, 'model')\n",
    "model.save(fname)"
   ]
  },
  {
   "cell_type": "markdown",
   "id": "a190dbd6",
   "metadata": {},
   "source": [
    "13-7. 이제는 모델을 배포할 차례! : TFServing & TFLite"
   ]
  },
  {
   "cell_type": "code",
   "execution_count": null,
   "id": "c0c0b321",
   "metadata": {},
   "outputs": [],
   "source": [
    "모델을 만들었다면 이제는 배포를 진행해봐야죠!\n",
    "\n",
    "배포를 진행하는 방법은 크게 2가지로 나눌 수 있습니다.\n",
    "\n",
    "클라우드를 활용해서 모델을 배포하는 방식\n",
    "경량화된 모델을 만들어서 휴대폰같은 디바이스에서도 모델이 실행되게 만드는 방식\n",
    "TensorFlow는 첫번째 방식을 TFServing을 통해서 가능하게 만들며 2번째 방식은 TFLite방식으로 가능하게 만듭니다.\n",
    "그렇다면 2개를 더 자세하게 알아볼까요?\n",
    "\n",
    "TFServing\n",
    "TFServing이란 텐서플로우 그래프를 배포할 수 있으며 표준화된 엔드포인트를 제공합니다. 또한 모델 및 버전관리가 가능하며 정책 기반으로 모델을 서비스할 수 있습니다.\n",
    "또한 지연 시간이 최대한 짧게 만드는 고성능 처리량에서도 초점을 맞추고 있습니다.\n",
    "\n",
    "TFServing을 하는 방식은 크게 2가지가 있습니다.\n",
    "\n",
    "Docker를 활용한 배포\n",
    "우분투 터미널을 활용한 배포\n",
    "이번에 2개 모두 설명할 예정입니다.\n",
    "\n",
    "주의사항 우분투 터미널 실습의 경우 실제 결과물이 나오려면 로컬에서 진행해야 합니다.\n",
    "LMS에서 실행되지 않는 이유는 LMS 시스템에 들어가 있는 GPU클라우드도 Docker Image이며 쿠버네티스로 관리되고 있습니다.\n",
    "그렇기에 WSL2와 Docker 환경세팅을 해주세요..!!\n",
    "\n",
    "WSL2 설치 + 윈도우에서 Docker 설치하기\n",
    "파일을 우분투 디렉토리로 옮기는 방법\n",
    "macOS에서 Docker 설치하기\n",
    "TFServing 우분투 터미널로 실습하기\n",
    "우선 우분투 터미널 실습부터 진행하겠습니다!\n",
    "\n",
    "클라우드 쉘을 열고 해당 스크립트를 넣어주세요!"
   ]
  },
  {
   "cell_type": "markdown",
   "id": "0298a3ff",
   "metadata": {},
   "source": [
    "docker run -p 8500:8500 \\\n",
    "\t\t\t-p 8501:8501 \\\n",
    "\t\t\t--mount type=bind,source=/tmp/models,target=/models/my_model\n",
    "\t\t\t-e MODEL_NAME=my_model \\\n",
    "\t\t\t-e MODEL_BASE_PATH=/Users/komyeongji/Desktop/docker/model \\\n",
    "\t\t\t-t tensorflow/serving"
   ]
  },
  {
   "cell_type": "markdown",
   "id": "3b790929",
   "metadata": {},
   "source": [
    "docker run  -p 8500:8500 \\\n",
    "\t\t\t-p 8501:8501 \\\n",
    "\t\t\t--mount type=bind,source=/tmp/models,target=/models/my_model\n",
    "\t\t\t-e MODEL_NAME=my_model \\\n",
    "\t\t\t-e MODEL_BASE_PATH=/models/my_model \\\n",
    "\t\t\t-t tensorflow/serving"
   ]
  },
  {
   "cell_type": "code",
   "execution_count": null,
   "id": "0c8aed10",
   "metadata": {},
   "outputs": [],
   "source": [
    "# docker run  -p 8500:8500 \\\n",
    "# \t\t\t-p 8501:8501 \\\n",
    "# \t\t\t--mount type=bind,source=/tmp/models,target=/Users/komyeongji/Desktop/docker/model\n",
    "# \t\t\t-e MODEL_NAME=my_model \\\n",
    "# \t\t\t-e MODEL_BASE_PATH=/Users/komyeongji/Desktop/docker/model \\\n",
    "# \t\t\t-t tensorflow/serving"
   ]
  },
  {
   "cell_type": "code",
   "execution_count": null,
   "id": "ecd6149c",
   "metadata": {},
   "outputs": [],
   "source": [
    "# docker run tensorflow/serving -d -p 8500:8500 -p 8501:8501 \\\n",
    "#            --mount type=bind,source=/Users/komyeongji/Desktop/docker/1,target=/models \\\n",
    "#            -e MODEL_NAME=my_model \\\n",
    "#            -e MODEL_BASE_PATH=/models/model/1 \\ # 수정\n",
    "#            -t tensorflow/serving"
   ]
  },
  {
   "cell_type": "markdown",
   "id": "75aad5ae",
   "metadata": {},
   "source": [
    "/Users/komyeongji/Desktop/docker/model"
   ]
  },
  {
   "cell_type": "code",
   "execution_count": 15,
   "id": "5da9fcbf",
   "metadata": {},
   "outputs": [],
   "source": [
    "load_path = os.getenv('HOME') + '/aiffel/mlops/best_model/1/model'\n",
    "best_model = tf.keras.models.load_model(load_path)"
   ]
  },
  {
   "cell_type": "code",
   "execution_count": 16,
   "id": "4cf1a82a",
   "metadata": {},
   "outputs": [
    {
     "name": "stdout",
     "output_type": "stream",
     "text": [
      "Model: \"sequential_11\"\n",
      "_________________________________________________________________\n",
      "Layer (type)                 Output Shape              Param #   \n",
      "=================================================================\n",
      "conv2d_65 (Conv2D)           (None, 26, 26, 87)        870       \n",
      "_________________________________________________________________\n",
      "conv2d_66 (Conv2D)           (None, 24, 24, 87)        68208     \n",
      "_________________________________________________________________\n",
      "conv2d_67 (Conv2D)           (None, 22, 22, 82)        64288     \n",
      "_________________________________________________________________\n",
      "conv2d_68 (Conv2D)           (None, 20, 20, 62)        45818     \n",
      "_________________________________________________________________\n",
      "conv2d_69 (Conv2D)           (None, 18, 18, 72)        40248     \n",
      "_________________________________________________________________\n",
      "conv2d_70 (Conv2D)           (None, 16, 16, 77)        49973     \n",
      "_________________________________________________________________\n",
      "conv2d_71 (Conv2D)           (None, 14, 14, 77)        53438     \n",
      "_________________________________________________________________\n",
      "conv2d_72 (Conv2D)           (None, 12, 12, 87)        60378     \n",
      "_________________________________________________________________\n",
      "conv2d_73 (Conv2D)           (None, 10, 10, 37)        29008     \n",
      "_________________________________________________________________\n",
      "conv2d_74 (Conv2D)           (None, 8, 8, 47)          15698     \n",
      "_________________________________________________________________\n",
      "flatten_11 (Flatten)         (None, 3008)              0         \n",
      "_________________________________________________________________\n",
      "dense_16 (Dense)             (None, 256)               770304    \n",
      "_________________________________________________________________\n",
      "outputs (Dense)              (None, 10)                2570      \n",
      "=================================================================\n",
      "Total params: 1,200,801\n",
      "Trainable params: 1,200,801\n",
      "Non-trainable params: 0\n",
      "_________________________________________________________________\n"
     ]
    }
   ],
   "source": [
    "best_model.summary()"
   ]
  },
  {
   "cell_type": "markdown",
   "id": "a343799b",
   "metadata": {},
   "source": [
    "그렇다면 이제 tflite파일로 변환을 진행해보도록 하겠습니다!\n",
    "\n",
    "변환을 진행할 떄에는 tf.lite.TFLiteConverter메소드를 활용하면 쉽게 바꿀 수 있습니다!"
   ]
  },
  {
   "cell_type": "code",
   "execution_count": 17,
   "id": "ad2b13f0",
   "metadata": {},
   "outputs": [
    {
     "name": "stdout",
     "output_type": "stream",
     "text": [
      "INFO:tensorflow:Assets written to: /tmp/tmp3t8kq7p0/assets\n"
     ]
    }
   ],
   "source": [
    "converter = tf.lite.TFLiteConverter.from_keras_model(model)\n",
    "tflite_model = converter.convert()"
   ]
  },
  {
   "cell_type": "code",
   "execution_count": null,
   "id": "c7d76560",
   "metadata": {},
   "outputs": [],
   "source": [
    "tflite파일을 만들어서 우선 보관하도록 하겠습니다!"
   ]
  },
  {
   "cell_type": "code",
   "execution_count": 19,
   "id": "e9547f81",
   "metadata": {},
   "outputs": [],
   "source": [
    "with open('model.tflite', 'wb') as f:\n",
    "  f.write(tflite_model)"
   ]
  },
  {
   "cell_type": "code",
   "execution_count": 20,
   "id": "ba829272",
   "metadata": {},
   "outputs": [
    {
     "ename": "NameError",
     "evalue": "name 'interpreter' is not defined",
     "output_type": "error",
     "traceback": [
      "\u001b[0;31m---------------------------------------------------------------------------\u001b[0m",
      "\u001b[0;31mNameError\u001b[0m                                 Traceback (most recent call last)",
      "\u001b[0;32m/tmp/ipykernel_31/4227817743.py\u001b[0m in \u001b[0;36m<module>\u001b[0;34m\u001b[0m\n\u001b[0;32m----> 1\u001b[0;31m \u001b[0mclassify_lite\u001b[0m \u001b[0;34m=\u001b[0m \u001b[0minterpreter\u001b[0m\u001b[0;34m.\u001b[0m\u001b[0mget_signature_runner\u001b[0m\u001b[0;34m(\u001b[0m\u001b[0;34m'serving_default'\u001b[0m\u001b[0;34m)\u001b[0m\u001b[0;34m\u001b[0m\u001b[0;34m\u001b[0m\u001b[0m\n\u001b[0m\u001b[1;32m      2\u001b[0m \u001b[0mclassify_lite\u001b[0m\u001b[0;34m\u001b[0m\u001b[0;34m\u001b[0m\u001b[0m\n",
      "\u001b[0;31mNameError\u001b[0m: name 'interpreter' is not defined"
     ]
    }
   ],
   "source": [
    "classify_lite = interpreter.get_signature_runner('serving_default')\n",
    "classify_lite"
   ]
  },
  {
   "cell_type": "code",
   "execution_count": null,
   "id": "ab864b9e",
   "metadata": {},
   "outputs": [],
   "source": []
  }
 ],
 "metadata": {
  "kernelspec": {
   "display_name": "Python 3 (ipykernel)",
   "language": "python",
   "name": "python3"
  },
  "language_info": {
   "codemirror_mode": {
    "name": "ipython",
    "version": 3
   },
   "file_extension": ".py",
   "mimetype": "text/x-python",
   "name": "python",
   "nbconvert_exporter": "python",
   "pygments_lexer": "ipython3",
   "version": "3.9.7"
  }
 },
 "nbformat": 4,
 "nbformat_minor": 5
}
